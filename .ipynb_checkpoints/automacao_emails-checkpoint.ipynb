{
 "cells": [
  {
   "cell_type": "markdown",
   "metadata": {},
   "source": [
    "# Jupyter para automação de envio de e-mails com python"
   ]
  },
  {
   "cell_type": "markdown",
   "metadata": {},
   "source": [
    "Com esse jupyter e as bibliotecas nativas do python, você conseguirá enviar e-mails automáticos, além de implementar html e css para a formatação dos e-mails"
   ]
  },
  {
   "cell_type": "code",
   "execution_count": 1,
   "metadata": {},
   "outputs": [],
   "source": [
    "#importando cada uma das bibliotecas\n",
    "import smtplib\n",
    "import json\n",
    "from email.mime.multipart import MIMEMultipart\n",
    "from email.mime.text import MIMEText"
   ]
  },
  {
   "cell_type": "markdown",
   "metadata": {},
   "source": [
    "Para enviar os emails, é necessário utilizar um email. Além de ter o email, é preciso dos dados como user (seu email) e password (sua senha).\n",
    "\n",
    "Por motivos de segurança, crie um arquivo json na seguinte estrutura:\n",
    "\n",
    "[\n",
    "    {\"email\":\"seu email\", \"senha\":\"sua senha\"}\n",
    "]"
   ]
  },
  {
   "cell_type": "code",
   "execution_count": 2,
   "metadata": {},
   "outputs": [],
   "source": [
    "#vamos abrir o arquivo json para assim utilizar os dados salvos\n",
    "with open('email/email.json', 'r') as archive:\n",
    "    content = json.load(archive)[0]\n",
    "    email = content['email']\n",
    "    senha = content['senha']\n",
    "    #retorna uma lista com todos os dicionarios\n"
   ]
  },
  {
   "cell_type": "markdown",
   "metadata": {},
   "source": [
    "# Criando o server\n",
    "Para fazer o desparo de emails de maneira automática, é preciso configurar um server que possa realizar isso. Neste caso, utilizaremos o gmail e por isso, precisamos da configuração abaixo. Se for utilizar um domínio de email diferente, pesquise por **smtp + dominio (ex: outlook, yahoo, etc.)**"
   ]
  },
  {
   "cell_type": "code",
   "execution_count": 3,
   "metadata": {},
   "outputs": [],
   "source": [
    "host = 'smtp.gmail.com'\n",
    "port = 587\n",
    "user = email\n",
    "password = senha"
   ]
  },
  {
   "cell_type": "code",
   "execution_count": 4,
   "metadata": {},
   "outputs": [
    {
     "name": "stdout",
     "output_type": "stream",
     "text": [
      "Criando objeto servidor...\n"
     ]
    }
   ],
   "source": [
    "print('Criando objeto servidor...')\n",
    "server = smtplib.SMTP(host, port)\n"
   ]
  },
  {
   "cell_type": "code",
   "execution_count": 5,
   "metadata": {},
   "outputs": [
    {
     "name": "stdout",
     "output_type": "stream",
     "text": [
      "Login...\n"
     ]
    },
    {
     "data": {
      "text/plain": [
       "(235, b'2.7.0 Accepted')"
      ]
     },
     "execution_count": 5,
     "metadata": {},
     "output_type": "execute_result"
    }
   ],
   "source": [
    "# Login com servidor\n",
    "print('Login...')\n",
    "server.ehlo()\n",
    "server.starttls()\n",
    "server.login(user, password)\n"
   ]
  },
  {
   "cell_type": "markdown",
   "metadata": {},
   "source": [
    "# Começando a criar o e-mail\n",
    "A partir de agora, começaremos a dar forma para o e-mail que iremos criar."
   ]
  },
  {
   "cell_type": "code",
   "execution_count": 6,
   "metadata": {},
   "outputs": [
    {
     "name": "stdout",
     "output_type": "stream",
     "text": [
      "Criando mensagem...\n"
     ]
    }
   ],
   "source": [
    "email_msg = MIMEMultipart()\n",
    "email_msg['From'] = user\n",
    "email_msg['Subject'] = 'Assunto!'"
   ]
  },
  {
   "cell_type": "code",
   "execution_count": 7,
   "metadata": {},
   "outputs": [],
   "source": [
    "contatos = \"\"\n",
    "\n",
    "with open('emails/email_professores.txt', \"r\", encoding=\"utf-8\") as txt:\n",
    "    contatos = txt.read()\n",
    "    "
   ]
  },
  {
   "cell_type": "code",
   "execution_count": 8,
   "metadata": {},
   "outputs": [
    {
     "data": {
      "text/plain": [
       "['vitoria.cmr@icloud.com',\n",
       " 'mluiza54@gmail.com',\n",
       " 'giordano.gardel@gmail.com',\n",
       " 'gjfmedina@gmail.com',\n",
       " 'paludetothaina@gmail.com',\n",
       " 'karinabaltor@hotmail.com']"
      ]
     },
     "execution_count": 8,
     "metadata": {},
     "output_type": "execute_result"
    }
   ],
   "source": [
    "lista_contatos = contatos.split('\\n')\n",
    "lista_contatos"
   ]
  },
  {
   "cell_type": "code",
   "execution_count": 9,
   "metadata": {},
   "outputs": [
    {
     "name": "stdout",
     "output_type": "stream",
     "text": [
      "Criando html...\n"
     ]
    }
   ],
   "source": [
    "message_html = \"\"\n",
    "\n",
    "with open('static/base.html', \"r\", encoding=\"utf-8\") as html:\n",
    "    message_html = html.read()\n",
    "    \n",
    "\n",
    "email_msg.attach(MIMEText(message_html, 'html'))\n",
    "print('Criando html...')\n"
   ]
  },
  {
   "cell_type": "code",
   "execution_count": 10,
   "metadata": {},
   "outputs": [
    {
     "name": "stdout",
     "output_type": "stream",
     "text": [
      "Enviando mensagem...\n",
      "Mensagem enviada!\n"
     ]
    },
    {
     "data": {
      "text/plain": [
       "(221, b'2.0.0 closing connection m71sm1107315vkh.26 - gsmtp')"
      ]
     },
     "execution_count": 10,
     "metadata": {},
     "output_type": "execute_result"
    }
   ],
   "source": [
    "print('Enviando mensagem...')\n",
    "server.sendmail(email_msg['From'], lista_contatos, email_msg.as_string())\n",
    "print('Mensagem enviada!')\n",
    "server.quit()"
   ]
  },
  {
   "cell_type": "code",
   "execution_count": null,
   "metadata": {},
   "outputs": [],
   "source": []
  },
  {
   "cell_type": "code",
   "execution_count": null,
   "metadata": {},
   "outputs": [],
   "source": []
  }
 ],
 "metadata": {
  "kernelspec": {
   "display_name": "Python 3",
   "language": "python",
   "name": "python3"
  },
  "language_info": {
   "codemirror_mode": {
    "name": "ipython",
    "version": 3
   },
   "file_extension": ".py",
   "mimetype": "text/x-python",
   "name": "python",
   "nbconvert_exporter": "python",
   "pygments_lexer": "ipython3",
   "version": "3.7.6"
  }
 },
 "nbformat": 4,
 "nbformat_minor": 4
}
