{
 "cells": [
  {
   "cell_type": "markdown",
   "metadata": {},
   "source": [
    "# Jupyter para automação de envio de e-mails com python"
   ]
  },
  {
   "cell_type": "markdown",
   "metadata": {},
   "source": [
    "Com esse jupyter e as bibliotecas nativas do python, você conseguirá enviar e-mails automáticos, além de implementar html e css para a formatação dos e-mails"
   ]
  },
  {
   "cell_type": "code",
   "execution_count": null,
   "metadata": {},
   "outputs": [],
   "source": [
    "#importando cada uma das bibliotecas\n",
    "import smtplib\n",
    "import json\n",
    "from email.mime.multipart import MIMEMultipart\n",
    "from email.mime.text import MIMEText"
   ]
  },
  {
   "cell_type": "markdown",
   "metadata": {},
   "source": [
    "Para enviar os emails, é necessário utilizar um email. Além de ter o email, é preciso dos dados como user (seu email) e password (sua senha).\n",
    "\n",
    "Por motivos de segurança, crie um arquivo json na seguinte estrutura:\n",
    "\n",
    "[\n",
    "    {\"email\":\"seu email\", \"senha\":\"sua senha\"}\n",
    "]"
   ]
  },
  {
   "cell_type": "code",
   "execution_count": null,
   "metadata": {},
   "outputs": [],
   "source": [
    "#vamos abrir o arquivo json para assim utilizar os dados salvos\n",
    "with open('user/email.json', 'r') as archive:\n",
    "    content = json.load(archive)[0]\n",
    "    email = content['email']\n",
    "    senha = content['senha']\n",
    "    #retorna uma lista com todos os dicionarios\n"
   ]
  },
  {
   "cell_type": "markdown",
   "metadata": {},
   "source": [
    "# Criando o server\n",
    "Para fazer o desparo de emails de maneira automática, é preciso configurar um server que possa realizar isso. Neste caso, utilizaremos o gmail e por isso, precisamos da configuração abaixo. Se for utilizar um domínio de email diferente, pesquise por **smtp + dominio (ex: outlook, yahoo, etc.)**"
   ]
  },
  {
   "cell_type": "code",
   "execution_count": null,
   "metadata": {},
   "outputs": [],
   "source": [
    "host = 'smtp.gmail.com'\n",
    "port = 587\n",
    "user = email\n",
    "password = senha"
   ]
  },
  {
   "cell_type": "code",
   "execution_count": null,
   "metadata": {},
   "outputs": [],
   "source": [
    "print('Criando objeto servidor...')\n",
    "server = smtplib.SMTP(host, port)\n"
   ]
  },
  {
   "cell_type": "code",
   "execution_count": null,
   "metadata": {},
   "outputs": [],
   "source": [
    "# Login com servidor\n",
    "print('Login...')\n",
    "server.ehlo()\n",
    "server.starttls()\n",
    "server.login(user, password)\n"
   ]
  },
  {
   "cell_type": "markdown",
   "metadata": {},
   "source": [
    "# Começando a criar o e-mail\n",
    "A partir de agora, começaremos a dar forma para o e-mail que iremos criar."
   ]
  },
  {
   "cell_type": "code",
   "execution_count": null,
   "metadata": {},
   "outputs": [],
   "source": [
    "email_msg = MIMEMultipart()\n",
    "#definindo quem vai enviar (no caso nosso user)\n",
    "email_msg['From'] = user\n",
    "#definindo o assunto\n",
    "email_msg['Subject'] = 'Assunto!'"
   ]
  },
  {
   "cell_type": "markdown",
   "metadata": {},
   "source": [
    "# Selecionando a lista de e-mails\n",
    "A segunda parte em consiste em definir os emails que receberão esse email automático. Para isso, vamos criar um arquivo txt e em seguida abrí-lo. Com isso, evitamos uma lista muito grande no código, além disso, conseguimos automatizar o processo, visto que edições necessárias podem ser feitas diretamente no arquivo .txt e ao rodar o script, já é possível enviar os emails"
   ]
  },
  {
   "cell_type": "code",
   "execution_count": null,
   "metadata": {},
   "outputs": [],
   "source": [
    "contatos = \"\"\n",
    "\n",
    "with open('emails/emails.txt', \"r\", encoding=\"utf-8\") as txt:\n",
    "    contatos = txt.read()\n",
    "    "
   ]
  },
  {
   "cell_type": "code",
   "execution_count": null,
   "metadata": {},
   "outputs": [],
   "source": [
    "lista_contatos = contatos.split('\\n')\n",
    "lista_contatos"
   ]
  },
  {
   "cell_type": "markdown",
   "metadata": {},
   "source": [
    "# Criando um estilo\n",
    "Para criar um estilo, pensaremos da mesma forma como fizemos com o arquivo de emails (.txt). Contudo, dentre muitas particularidades dos estilos que podem ser implementados nos emails ([acesse aqui](https://www.campaignmonitor.com/css/)) uma delas é que o estilo deve ser implementado diretamente no **<'HEAD'>**"
   ]
  },
  {
   "cell_type": "code",
   "execution_count": null,
   "metadata": {},
   "outputs": [],
   "source": [
    "message_html = \"\"\n",
    "\n",
    "with open('static/template.html', \"r\", encoding=\"utf-8\") as html:\n",
    "    message_html = html.read()\n",
    "    \n",
    "\n",
    "email_msg.attach(MIMEText(message_html, 'html'))\n",
    "print('Criando html...')\n"
   ]
  },
  {
   "cell_type": "code",
   "execution_count": null,
   "metadata": {},
   "outputs": [],
   "source": [
    "print('Enviando mensagem...')\n",
    "server.sendmail(email_msg['From'], lista_contatos, email_msg.as_string())\n",
    "print('Mensagem enviada!')\n",
    "server.quit()"
   ]
  },
  {
   "cell_type": "code",
   "execution_count": null,
   "metadata": {},
   "outputs": [],
   "source": []
  }
 ],
 "metadata": {
  "kernelspec": {
   "display_name": "Python 3",
   "language": "python",
   "name": "python3"
  },
  "language_info": {
   "codemirror_mode": {
    "name": "ipython",
    "version": 3
   },
   "file_extension": ".py",
   "mimetype": "text/x-python",
   "name": "python",
   "nbconvert_exporter": "python",
   "pygments_lexer": "ipython3",
   "version": "3.7.6"
  }
 },
 "nbformat": 4,
 "nbformat_minor": 4
}
